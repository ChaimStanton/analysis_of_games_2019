{
 "cells": [
  {
   "cell_type": "code",
   "execution_count": 254,
   "metadata": {},
   "outputs": [],
   "source": [
    "import numpy as np\n",
    "import pandas as pd"
   ]
  },
  {
   "cell_type": "markdown",
   "metadata": {},
   "source": [
    "## Progression"
   ]
  },
  {
   "cell_type": "markdown",
   "metadata": {},
   "source": [
    "An important consideration when making a game is how quickly players will progress through the game. If your game is too easy, players may run out of levels too quickly or get bored. If your game is too hard players may get stuck making many attempts on a single level and get fed up and quit. Modelling the progression speed of players will help you understand how players experience the game.\n",
    "\n",
    "In the following exercises we will simulate progression data for a fictional game. By the end of the exercises you will have written a function that simulates the progression of multiple players over multiple different levels."
   ]
  },
  {
   "cell_type": "markdown",
   "metadata": {},
   "source": [
    "### Exercise 1"
   ]
  },
  {
   "cell_type": "markdown",
   "metadata": {},
   "source": [
    "The cell below will output 1 (win) or 0 (loss) for a single game round - you saw this function earlier. Edit the cell to define a function, called *progression*, that takes a variable *pass_rate* and outputs the result of the game round (1 or 0)."
   ]
  },
  {
   "cell_type": "code",
   "execution_count": null,
   "metadata": {},
   "outputs": [],
   "source": [
    "np.random.binomial(1\n",
    "                   , 0.6 #probability of success\n",
    "                   , 1 #number of experiments\n",
    "                  )"
   ]
  },
  {
   "cell_type": "markdown",
   "metadata": {},
   "source": [
    "Test your code to make sure it's working as you expect."
   ]
  },
  {
   "cell_type": "code",
   "execution_count": null,
   "metadata": {},
   "outputs": [],
   "source": [
    "pass_rate = 0.6\n",
    "\n",
    "progression(pass_rate)"
   ]
  },
  {
   "cell_type": "code",
   "execution_count": 256,
   "metadata": {},
   "outputs": [
    {
     "data": {
      "text/plain": [
       "0"
      ]
     },
     "execution_count": 256,
     "metadata": {},
     "output_type": "execute_result"
    }
   ],
   "source": [
    "#answer:\n",
    "\n",
    "def progression(pass_rate):\n",
    "    result = np.random.binomial(1, pass_rate, 1)\n",
    "    return result[0]\n",
    "\n",
    "progression(0.6)"
   ]
  },
  {
   "cell_type": "markdown",
   "metadata": {},
   "source": [
    "### Exercise 2"
   ]
  },
  {
   "cell_type": "markdown",
   "metadata": {},
   "source": [
    "The function you wrote is a good start, but knowing the result of a single game round isn't very useful in helping us understand how players progress through our game. Firstly, most players will play more than one game round in a session, so we need to edit the function to allow for multiple attempts. Your function should now take two variables, *pass_rate* and *num_game_rounds*, and the output of the function should be an array of 1s and 0s. Make sure you test your function to ensure it's working as you expect!\n",
    "\n",
    "**Hint:** A for-loop could be useful here."
   ]
  },
  {
   "cell_type": "code",
   "execution_count": null,
   "metadata": {},
   "outputs": [],
   "source": [
    "def progression(pass_rate, num_game_rounds):\n",
    "    # Your code here\n",
    "    \n",
    "    "
   ]
  },
  {
   "cell_type": "code",
   "execution_count": 230,
   "metadata": {},
   "outputs": [
    {
     "data": {
      "text/plain": [
       "[1, 0, 1, 1, 0, 1, 0, 1, 0, 1]"
      ]
     },
     "execution_count": 230,
     "metadata": {},
     "output_type": "execute_result"
    }
   ],
   "source": [
    "#answer:\n",
    "\n",
    "def progression(pass_rate, num_game_rounds):\n",
    "    player_results = []\n",
    "    for attempt in range(num_game_rounds):\n",
    "        result = np.random.binomial(1, pass_rate, 1)\n",
    "        player_results.extend(result)\n",
    "    return player_results\n",
    "\n",
    "progression(0.6, 10)"
   ]
  },
  {
   "cell_type": "markdown",
   "metadata": {},
   "source": [
    "### Exercise 3"
   ]
  },
  {
   "cell_type": "markdown",
   "metadata": {},
   "source": [
    "In the previous function we used the same pass rate for each level, however in reality each level will have a different pass rate. Let's assume there are 10 levels in our game. The cell below will create a dataframe *levels_pass_rates* which tells us the pass rates for each level.\n",
    "\n",
    "**Note:** The index of *levels_pass_rates* is the level number."
   ]
  },
  {
   "cell_type": "code",
   "execution_count": 278,
   "metadata": {},
   "outputs": [
    {
     "data": {
      "text/html": [
       "<div>\n",
       "<style scoped>\n",
       "    .dataframe tbody tr th:only-of-type {\n",
       "        vertical-align: middle;\n",
       "    }\n",
       "\n",
       "    .dataframe tbody tr th {\n",
       "        vertical-align: top;\n",
       "    }\n",
       "\n",
       "    .dataframe thead th {\n",
       "        text-align: right;\n",
       "    }\n",
       "</style>\n",
       "<table border=\"1\" class=\"dataframe\">\n",
       "  <thead>\n",
       "    <tr style=\"text-align: right;\">\n",
       "      <th></th>\n",
       "      <th>level_pass_rate</th>\n",
       "    </tr>\n",
       "  </thead>\n",
       "  <tbody>\n",
       "    <tr>\n",
       "      <th>1</th>\n",
       "      <td>0.90</td>\n",
       "    </tr>\n",
       "    <tr>\n",
       "      <th>2</th>\n",
       "      <td>0.75</td>\n",
       "    </tr>\n",
       "    <tr>\n",
       "      <th>3</th>\n",
       "      <td>0.60</td>\n",
       "    </tr>\n",
       "    <tr>\n",
       "      <th>4</th>\n",
       "      <td>0.80</td>\n",
       "    </tr>\n",
       "    <tr>\n",
       "      <th>5</th>\n",
       "      <td>0.10</td>\n",
       "    </tr>\n",
       "    <tr>\n",
       "      <th>6</th>\n",
       "      <td>0.55</td>\n",
       "    </tr>\n",
       "    <tr>\n",
       "      <th>7</th>\n",
       "      <td>0.80</td>\n",
       "    </tr>\n",
       "    <tr>\n",
       "      <th>8</th>\n",
       "      <td>0.50</td>\n",
       "    </tr>\n",
       "    <tr>\n",
       "      <th>9</th>\n",
       "      <td>0.70</td>\n",
       "    </tr>\n",
       "    <tr>\n",
       "      <th>10</th>\n",
       "      <td>0.60</td>\n",
       "    </tr>\n",
       "  </tbody>\n",
       "</table>\n",
       "</div>"
      ],
      "text/plain": [
       "    level_pass_rate\n",
       "1              0.90\n",
       "2              0.75\n",
       "3              0.60\n",
       "4              0.80\n",
       "5              0.10\n",
       "6              0.55\n",
       "7              0.80\n",
       "8              0.50\n",
       "9              0.70\n",
       "10             0.60"
      ]
     },
     "execution_count": 278,
     "metadata": {},
     "output_type": "execute_result"
    }
   ],
   "source": [
    "levels_pass_rates = pd.DataFrame(data={'level_pass_rate':[0.90,0.75,0.60,0.80,0.10,0.55,0.80,0.50,0.70,0.60]}\n",
    "                                 , index=[1,2,3,4,5,6,7,8,9,10])\n",
    "levels_pass_rates"
   ]
  },
  {
   "cell_type": "markdown",
   "metadata": {},
   "source": [
    "Edit your function so that, instead of taking a single number for *pass_rate*, it takes the dataframe *levels_pass_rates*.\n",
    "\n",
    "\n",
    "**Hint:** A player will keep playing the same level until they win a game round on that level."
   ]
  },
  {
   "cell_type": "code",
   "execution_count": null,
   "metadata": {},
   "outputs": [],
   "source": [
    "def progression(pass_rate, num_game_rounds):\n",
    "    # Your code here\n",
    "    \n",
    "    "
   ]
  },
  {
   "cell_type": "code",
   "execution_count": null,
   "metadata": {},
   "outputs": [],
   "source": [
    "#Test your function\n",
    "\n",
    "pass_rates = levels_pass_rates\n",
    "num_game_rounds = 10\n",
    "\n",
    "progression(pass_rates, num_game_rounds)"
   ]
  },
  {
   "cell_type": "code",
   "execution_count": 273,
   "metadata": {},
   "outputs": [
    {
     "data": {
      "text/plain": [
       "[1, 1, 0, 0, 1, 1, 1, 1, 1, 1]"
      ]
     },
     "execution_count": 273,
     "metadata": {},
     "output_type": "execute_result"
    }
   ],
   "source": [
    "#answer:\n",
    "\n",
    "def progression(pass_rates, num_game_rounds):\n",
    "    player_results = []\n",
    "    level = 1\n",
    "    for attempt in range(num_game_rounds):\n",
    "        result = np.random.binomial(1, levels_pass_rates.loc[level], 1)\n",
    "        player_results.extend(result)\n",
    "        if result == 1:\n",
    "            level += 1\n",
    "    return player_results\n",
    "\n",
    "pass_rates = levels_pass_rates\n",
    "num_game_rounds = 10\n",
    "\n",
    "progression(pass_rates, num_game_rounds)"
   ]
  },
  {
   "cell_type": "markdown",
   "metadata": {},
   "source": [
    "### Exercise 4"
   ]
  },
  {
   "cell_type": "markdown",
   "metadata": {},
   "source": [
    "We now have a function that outputs the realistic progression of a player through 10 game rounds, however we are more interested in how many levels the player passed than in the results of each game round. Edit your progression function to output the total number of levels the player has passed."
   ]
  },
  {
   "cell_type": "code",
   "execution_count": null,
   "metadata": {},
   "outputs": [],
   "source": [
    "def progression(pass_rate, num_game_rounds):\n",
    "    # Your code here\n",
    "    \n",
    "    "
   ]
  },
  {
   "cell_type": "code",
   "execution_count": 274,
   "metadata": {},
   "outputs": [
    {
     "data": {
      "text/plain": [
       "6"
      ]
     },
     "execution_count": 274,
     "metadata": {},
     "output_type": "execute_result"
    }
   ],
   "source": [
    "#answer:\n",
    "\n",
    "def progression(pass_rates, num_game_rounds):\n",
    "    player_results = []\n",
    "    level = 1\n",
    "    for attempt in range(num_game_rounds):\n",
    "        result = np.random.binomial(1, pass_rates.loc[level], 1)\n",
    "        player_results.extend(result)\n",
    "        if result == 1:\n",
    "            level += 1\n",
    "    return sum(player_results)\n",
    "\n",
    "pass_rates = levels_pass_rates\n",
    "num_game_rounds = 10\n",
    "\n",
    "progression(pass_rates, num_game_rounds)"
   ]
  },
  {
   "cell_type": "markdown",
   "metadata": {},
   "source": [
    "### Exercise 5"
   ]
  },
  {
   "cell_type": "markdown",
   "metadata": {},
   "source": [
    "One player's progression through the game is interesting, but it doesn't tell us too much about the game overall. We could be looking at a player who is exceptionally good (or bad!) at the game. What we really want to look at is the progression of a number of players, so we can get an idea of how most people will interact with the game.\n",
    "\n",
    "Edit your progression function to take another variable *num_players* and output an array of the total number of levels passed by each player."
   ]
  },
  {
   "cell_type": "code",
   "execution_count": null,
   "metadata": {},
   "outputs": [],
   "source": [
    "def progression(pass_rate, num_game_rounds, num_players):\n",
    "    # Your code here\n",
    "    \n",
    "    "
   ]
  },
  {
   "cell_type": "code",
   "execution_count": 279,
   "metadata": {
    "collapsed": true
   },
   "outputs": [
    {
     "data": {
      "text/plain": [
       "[7,\n",
       " 6,\n",
       " 9,\n",
       " 4,\n",
       " 4,\n",
       " 4,\n",
       " 4,\n",
       " 4,\n",
       " 5,\n",
       " 6,\n",
       " 4,\n",
       " 6,\n",
       " 5,\n",
       " 4,\n",
       " 4,\n",
       " 4,\n",
       " 4,\n",
       " 4,\n",
       " 8,\n",
       " 5,\n",
       " 7,\n",
       " 4,\n",
       " 4,\n",
       " 4,\n",
       " 4,\n",
       " 4,\n",
       " 7,\n",
       " 9,\n",
       " 7,\n",
       " 2,\n",
       " 7,\n",
       " 4,\n",
       " 8,\n",
       " 4,\n",
       " 4,\n",
       " 4,\n",
       " 4,\n",
       " 4,\n",
       " 4,\n",
       " 4,\n",
       " 4,\n",
       " 4,\n",
       " 4,\n",
       " 7,\n",
       " 4,\n",
       " 8,\n",
       " 4,\n",
       " 6,\n",
       " 4,\n",
       " 9,\n",
       " 9,\n",
       " 4,\n",
       " 4,\n",
       " 7,\n",
       " 4,\n",
       " 7,\n",
       " 4,\n",
       " 4,\n",
       " 8,\n",
       " 4,\n",
       " 7,\n",
       " 4,\n",
       " 4,\n",
       " 4,\n",
       " 4,\n",
       " 7,\n",
       " 7,\n",
       " 9,\n",
       " 7,\n",
       " 4,\n",
       " 6,\n",
       " 4,\n",
       " 4,\n",
       " 4,\n",
       " 4,\n",
       " 5,\n",
       " 5,\n",
       " 7,\n",
       " 4,\n",
       " 4,\n",
       " 4,\n",
       " 4,\n",
       " 4,\n",
       " 4,\n",
       " 4,\n",
       " 4,\n",
       " 4,\n",
       " 4,\n",
       " 4,\n",
       " 4,\n",
       " 4,\n",
       " 6,\n",
       " 4,\n",
       " 5,\n",
       " 4,\n",
       " 4,\n",
       " 7,\n",
       " 4,\n",
       " 4,\n",
       " 6]"
      ]
     },
     "execution_count": 279,
     "metadata": {},
     "output_type": "execute_result"
    }
   ],
   "source": [
    "#answer:\n",
    "\n",
    "def progression(pass_rates, num_game_rounds, num_players):\n",
    "    progress = []\n",
    "    for player in range(num_players):\n",
    "        player_results = []\n",
    "        level = 1\n",
    "        for attempt in range(num_game_rounds):\n",
    "            result = np.random.binomial(1, pass_rates.loc[level], 1)\n",
    "            player_results.extend(result)\n",
    "            if result == 1:\n",
    "                level += 1\n",
    "        progress.append(sum(player_results))\n",
    "    return progress\n",
    "\n",
    "pass_rates = levels_pass_rates\n",
    "num_game_rounds = 10\n",
    "num_players = 100\n",
    "\n",
    "progression(pass_rates, num_game_rounds, num_players)"
   ]
  },
  {
   "cell_type": "markdown",
   "metadata": {},
   "source": [
    "### Exercise 6"
   ]
  },
  {
   "cell_type": "markdown",
   "metadata": {},
   "source": [
    "Now we have our simulated progression data, but what does it mean? How do we interpret an array of numbers? One of the best ways to see what's going on with data is to visualise it."
   ]
  },
  {
   "cell_type": "markdown",
   "metadata": {},
   "source": [
    "#### Histogram\n",
    "\n",
    "A simple way to visualise an array of numbers is to create a histogram:"
   ]
  },
  {
   "cell_type": "code",
   "execution_count": 291,
   "metadata": {},
   "outputs": [
    {
     "data": {
      "text/plain": [
       "Text(0, 0.5, 'Number of Players')"
      ]
     },
     "execution_count": 291,
     "metadata": {},
     "output_type": "execute_result"
    },
    {
     "data": {
      "image/png": "[encoded data removed]",
      "text/plain": [
       "<Figure size 792x432 with 1 Axes>"
      ]
     },
     "metadata": {},
     "output_type": "display_data"
    }
   ],
   "source": [
    "progress = pd.DataFrame(progression(pass_rates, num_game_rounds, num_players), columns=['max_level'])\n",
    "\n",
    "#This line creates the plot\n",
    "progress.groupby('max_level')['max_level'].count().plot(kind='bar')\n",
    "\n",
    "#These lines change the axis labels and improve readability of the xtick labels\n",
    "plt.xlabel('Max Level')\n",
    "plt.xticks(rotation=0)\n",
    "plt.ylabel('Number of Players')"
   ]
  },
  {
   "cell_type": "markdown",
   "metadata": {},
   "source": [
    "What does this tell you about how players progress through the game? Are there any levels where players seem to get stuck and fail to progress? Do most of the players get through all 10 levels in 10 game rounds? Both of these could produce a negative experience for the player.\n",
    "\n",
    "Try changing the pass rates in levels_pass_rates, or num_game_rounds to see how that affects progression. What pass rates for each level would you recommend?"
   ]
  }
 ],
 "metadata": {
  "kernelspec": {
   "display_name": "Python 3",
   "language": "python",
   "name": "python3"
  },
  "language_info": {
   "codemirror_mode": {
    "name": "ipython",
    "version": 3
   },
   "file_extension": ".py",
   "mimetype": "text/x-python",
   "name": "python",
   "nbconvert_exporter": "python",
   "pygments_lexer": "ipython3",
   "version": "3.6.8"
  },
  "toc": {
   "base_numbering": 1,
   "nav_menu": {},
   "number_sections": true,
   "sideBar": true,
   "skip_h1_title": false,
   "title_cell": "Table of Contents",
   "title_sidebar": "Contents",
   "toc_cell": false,
   "toc_position": {},
   "toc_section_display": true,
   "toc_window_display": false
  }
 },
 "nbformat": 4,
 "nbformat_minor": 2
}
